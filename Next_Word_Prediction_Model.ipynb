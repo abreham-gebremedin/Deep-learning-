{
  "cells": [
    {
      "cell_type": "markdown",
      "metadata": {
        "id": "view-in-github",
        "colab_type": "text"
      },
      "source": [
        "<a href=\"https://colab.research.google.com/github/abreham-gebremedin/Deep-learning-/blob/main/Next_Word_Prediction_Model.ipynb\" target=\"_parent\"><img src=\"https://colab.research.google.com/assets/colab-badge.svg\" alt=\"Open In Colab\"/></a>"
      ]
    },
    {
      "cell_type": "markdown",
      "source": [
        "#Abreham Gebremedin\n",
        " (https://abreham-gebremedin.herokuapp.com/)"
      ],
      "metadata": {
        "id": "sNGSwQx6NLXZ"
      }
    },
    {
      "cell_type": "markdown",
      "source": [
        "# Next Word Prediction Model"
      ],
      "metadata": {
        "id": "Ne2-e8vwNQw_"
      }
    },
    {
      "cell_type": "code",
      "execution_count": null,
      "metadata": {
        "id": "LZoSp2W3yoTZ"
      },
      "outputs": [],
      "source": [
        "import numpy as np\n",
        "from nltk.tokenize import RegexpTokenizer\n",
        "from tensorflow.keras.models import Sequential, load_model\n",
        "from tensorflow.keras.layers import LSTM\n",
        "from keras.layers.core import Dense, Activation\n",
        "from tensorflow.keras.optimizers import RMSprop\n",
        "import matplotlib.pyplot as plt\n",
        "import pickle\n",
        "import heapq"
      ]
    },
    {
      "cell_type": "code",
      "source": [
        "text = open('/content/drive/MyDrive/Colab Notebooks/text.txt', encoding='utf-8').read().lower()\n",
        "print('Length:', len(text))"
      ],
      "metadata": {
        "colab": {
          "base_uri": "https://localhost:8080/"
        },
        "id": "X8yqsTjUZNCy",
        "outputId": "c33abfdc-4108-4486-954b-d3bdff5327a6"
      },
      "execution_count": null,
      "outputs": [
        {
          "output_type": "stream",
          "name": "stdout",
          "text": [
            "Length: 581888\n"
          ]
        }
      ]
    },
    {
      "cell_type": "code",
      "source": [
        "tokenizer = RegexpTokenizer(r'\\w+')\n",
        "words = tokenizer.tokenize(text)\n",
        "# print(words)"
      ],
      "metadata": {
        "id": "NiprTFvVZb06"
      },
      "execution_count": null,
      "outputs": []
    },
    {
      "cell_type": "code",
      "source": [
        "unique_words = np.unique(words)\n",
        "unique_word_index = dict((c, i) for i, c in enumerate(unique_words))"
      ],
      "metadata": {
        "id": "4JLM3W5rZgwY"
      },
      "execution_count": null,
      "outputs": []
    },
    {
      "cell_type": "code",
      "source": [
        "WORD_LENGTH = 5\n",
        "prev_words = []\n",
        "next_words = []\n",
        "for i in range(len(words) - WORD_LENGTH):\n",
        "    prev_words.append(words[i:i + WORD_LENGTH])\n",
        "    next_words.append(words[i + WORD_LENGTH])\n",
        "print(prev_words[0])\n",
        "print(next_words[0])"
      ],
      "metadata": {
        "colab": {
          "base_uri": "https://localhost:8080/"
        },
        "id": "_OyUV1haZlEy",
        "outputId": "738bc0df-9b5a-433e-d34e-ed42b8c31af6"
      },
      "execution_count": null,
      "outputs": [
        {
          "output_type": "stream",
          "name": "stdout",
          "text": [
            "['project', 'gutenberg', 's', 'the', 'adventures']\n",
            "of\n"
          ]
        }
      ]
    },
    {
      "cell_type": "code",
      "source": [
        "X = np.zeros((len(prev_words), WORD_LENGTH, len(unique_words)), dtype=bool)\n",
        "Y = np.zeros((len(next_words), len(unique_words)), dtype=bool)\n",
        "for i, each_words in enumerate(prev_words):\n",
        "    for j, each_word in enumerate(each_words):\n",
        "        X[i, j, unique_word_index[each_word]] = 1\n",
        "    Y[i, unique_word_index[next_words[i]]] = 1\n",
        "    \n",
        "print(X[0][0])"
      ],
      "metadata": {
        "colab": {
          "base_uri": "https://localhost:8080/"
        },
        "id": "dbNeCr1YZlI5",
        "outputId": "dbbb2dc1-4783-471a-ec87-160cfca0bb1b"
      },
      "execution_count": null,
      "outputs": [
        {
          "output_type": "stream",
          "name": "stdout",
          "text": [
            "[False False False ... False False False]\n"
          ]
        }
      ]
    },
    {
      "cell_type": "code",
      "source": [
        "model = Sequential()\n",
        "model.add(LSTM(128, input_shape=(WORD_LENGTH, len(unique_words))))\n",
        "model.add(Dense(len(unique_words)))\n",
        "model.add(Activation('softmax'))"
      ],
      "metadata": {
        "id": "gjQKqtP6ZlNX"
      },
      "execution_count": null,
      "outputs": []
    },
    {
      "cell_type": "code",
      "source": [
        "optimizer = RMSprop(lr=0.01)\n",
        "model.compile(loss='categorical_crossentropy', optimizer=optimizer, metrics=['accuracy'])\n",
        "history = model.fit(X, Y, validation_split=0.2, batch_size=128, epochs=10, shuffle=True).history"
      ],
      "metadata": {
        "colab": {
          "base_uri": "https://localhost:8080/"
        },
        "id": "TH9mdinLZlRe",
        "outputId": "f9eb4012-a6bc-4e5c-c66c-904e77dea58b"
      },
      "execution_count": null,
      "outputs": [
        {
          "metadata": {
            "tags": null
          },
          "name": "stdout",
          "output_type": "stream",
          "text": [
            "Epoch 1/10\n"
          ]
        },
        {
          "metadata": {
            "tags": null
          },
          "name": "stderr",
          "output_type": "stream",
          "text": [
            "/usr/local/lib/python3.7/dist-packages/keras/optimizer_v2/rmsprop.py:130: UserWarning: The `lr` argument is deprecated, use `learning_rate` instead.\n",
            "  super(RMSprop, self).__init__(name, **kwargs)\n"
          ]
        },
        {
          "output_type": "stream",
          "name": "stdout",
          "text": [
            "683/683 [==============================] - 242s 346ms/step - loss: 6.0710 - accuracy: 0.1034 - val_loss: 6.0596 - val_accuracy: 0.1209\n",
            "Epoch 2/10\n",
            "683/683 [==============================] - 231s 338ms/step - loss: 5.7055 - accuracy: 0.1464 - val_loss: 6.5072 - val_accuracy: 0.1226\n",
            "Epoch 3/10\n",
            "683/683 [==============================] - 230s 337ms/step - loss: 5.7361 - accuracy: 0.1752 - val_loss: 6.6701 - val_accuracy: 0.1286\n",
            "Epoch 4/10\n",
            "683/683 [==============================] - 231s 338ms/step - loss: 5.4500 - accuracy: 0.2130 - val_loss: 6.8110 - val_accuracy: 0.1269\n",
            "Epoch 5/10\n",
            "683/683 [==============================] - 231s 339ms/step - loss: 5.1280 - accuracy: 0.2582 - val_loss: 6.9346 - val_accuracy: 0.1126\n",
            "Epoch 6/10\n",
            "683/683 [==============================] - 231s 338ms/step - loss: 4.8395 - accuracy: 0.3022 - val_loss: 7.0422 - val_accuracy: 0.1144\n",
            "Epoch 7/10\n",
            "683/683 [==============================] - 231s 338ms/step - loss: 4.6143 - accuracy: 0.3453 - val_loss: 7.2451 - val_accuracy: 0.1087\n",
            "Epoch 8/10\n",
            "683/683 [==============================] - 230s 337ms/step - loss: 4.4227 - accuracy: 0.3852 - val_loss: 7.2632 - val_accuracy: 0.1060\n",
            "Epoch 9/10\n",
            "683/683 [==============================] - 230s 337ms/step - loss: 4.2654 - accuracy: 0.4214 - val_loss: 7.3655 - val_accuracy: 0.0993\n",
            "Epoch 10/10\n",
            "683/683 [==============================] - 229s 335ms/step - loss: 4.1259 - accuracy: 0.4556 - val_loss: 7.4419 - val_accuracy: 0.0946\n"
          ]
        }
      ]
    },
    {
      "cell_type": "code",
      "source": [
        "model.save('next_word_model.h5')\n",
        "pickle.dump(history, open(\"history.p\", \"wb\"))\n",
        "model = load_model('next_word_model.h5')\n",
        "history = pickle.load(open(\"history.p\", \"rb\"))"
      ],
      "metadata": {
        "id": "6y1hduQzZlVV"
      },
      "execution_count": null,
      "outputs": []
    },
    {
      "cell_type": "code",
      "source": [
        "history"
      ],
      "metadata": {
        "colab": {
          "base_uri": "https://localhost:8080/"
        },
        "id": "sVg2yAlPZlY0",
        "outputId": "793ba709-8446-4722-bf71-a40cc7d28249"
      },
      "execution_count": null,
      "outputs": [
        {
          "output_type": "execute_result",
          "data": {
            "text/plain": [
              "{'accuracy': [0.1033693477511406,\n",
              "  0.1464017629623413,\n",
              "  0.17517396807670593,\n",
              "  0.21298754215240479,\n",
              "  0.25820592045783997,\n",
              "  0.30221113562583923,\n",
              "  0.34528931975364685,\n",
              "  0.38520875573158264,\n",
              "  0.4213514029979706,\n",
              "  0.45557132363319397],\n",
              " 'loss': [6.07101583480835,\n",
              "  5.705506801605225,\n",
              "  5.7360758781433105,\n",
              "  5.449987888336182,\n",
              "  5.1280436515808105,\n",
              "  4.839506149291992,\n",
              "  4.614306926727295,\n",
              "  4.422661304473877,\n",
              "  4.265375137329102,\n",
              "  4.125887870788574],\n",
              " 'val_accuracy': [0.12094300985336304,\n",
              "  0.12259098142385483,\n",
              "  0.1285877823829651,\n",
              "  0.1269398033618927,\n",
              "  0.11261158436536789,\n",
              "  0.11439688503742218,\n",
              "  0.10872053354978561,\n",
              "  0.10601968318223953,\n",
              "  0.09933622926473618,\n",
              "  0.0945754200220108],\n",
              " 'val_loss': [6.059567928314209,\n",
              "  6.507239818572998,\n",
              "  6.670144081115723,\n",
              "  6.811039924621582,\n",
              "  6.934574604034424,\n",
              "  7.042150020599365,\n",
              "  7.245062351226807,\n",
              "  7.263159275054932,\n",
              "  7.365506172180176,\n",
              "  7.441892623901367]}"
            ]
          },
          "metadata": {},
          "execution_count": 10
        }
      ]
    },
    {
      "cell_type": "code",
      "source": [
        "plt.plot(history['accuracy'])\n",
        "plt.plot(history['val_accuracy'])\n",
        "plt.title('Model Accuracy')\n",
        "plt.ylabel('Accuracy')\n",
        "plt.xlabel('Epoch')\n",
        "plt.legend(['train', 'test'], loc='upper left')"
      ],
      "metadata": {
        "colab": {
          "base_uri": "https://localhost:8080/",
          "height": 312
        },
        "id": "qzfBCK9PZlce",
        "outputId": "66a031fe-cd15-4166-f494-247221a41769"
      },
      "execution_count": null,
      "outputs": [
        {
          "output_type": "execute_result",
          "data": {
            "text/plain": [
              "<matplotlib.legend.Legend at 0x7f24b79c2bd0>"
            ]
          },
          "metadata": {},
          "execution_count": 11
        },
        {
          "output_type": "display_data",
          "data": {
            "text/plain": [
              "<Figure size 432x288 with 1 Axes>"
            ],
            "image/png": "[encoded data removed]"
          },
          "metadata": {
            "needs_background": "light"
          }
        }
      ]
    },
    {
      "cell_type": "code",
      "source": [
        "plt.plot(history['loss'])\n",
        "plt.plot(history['val_loss'])\n",
        "plt.title('model loss')\n",
        "plt.ylabel('loss')\n",
        "plt.xlabel('epoch')\n",
        "plt.legend(['train', 'test'], loc='upper left')"
      ],
      "metadata": {
        "colab": {
          "base_uri": "https://localhost:8080/",
          "height": 312
        },
        "id": "GMr4FccYZlgH",
        "outputId": "1e17485a-e74a-4236-c6c3-1a92babf62f0"
      },
      "execution_count": null,
      "outputs": [
        {
          "output_type": "execute_result",
          "data": {
            "text/plain": [
              "<matplotlib.legend.Legend at 0x7f24b7457390>"
            ]
          },
          "metadata": {},
          "execution_count": 12
        },
        {
          "output_type": "display_data",
          "data": {
            "text/plain": [
              "<Figure size 432x288 with 1 Axes>"
            ],
            "image/png": "[encoded data removed]"
          },
          "metadata": {
            "needs_background": "light"
          }
        }
      ]
    },
    {
      "cell_type": "code",
      "source": [
        ""
      ],
      "metadata": {
        "id": "QJcS2Nw3Zmpu"
      },
      "execution_count": null,
      "outputs": []
    }
  ],
  "metadata": {
    "colab": {
      "name": "Next Word Prediction Model.ipynb",
      "provenance": [],
      "collapsed_sections": [],
      "authorship_tag": "ABX9TyO2Jd+zyVE7TkT5b9PTJZgB",
      "include_colab_link": true
    },
    "kernelspec": {
      "display_name": "Python 3",
      "name": "python3"
    },
    "language_info": {
      "name": "python"
    }
  },
  "nbformat": 4,
  "nbformat_minor": 0
}